{
 "cells": [
  {
   "cell_type": "code",
   "execution_count": 1,
   "id": "e4919920-5dd1-4acd-83dc-c0a25a3b019c",
   "metadata": {},
   "outputs": [],
   "source": [
    "# loading and preparng the breast cancer dataset\n",
    "from pandas import read_csv\n",
    "from sklearn.model_selection import train_test_split\n",
    "from sklearn.preprocessing import LabelEncoder\n",
    "from sklearn.preprocessing import OrdinalEncoder"
   ]
  },
  {
   "cell_type": "code",
   "execution_count": 2,
   "id": "c3db3744-12d6-41d4-8ce9-bda7c5dab74b",
   "metadata": {},
   "outputs": [],
   "source": [
    "# load the dataset\n",
    "def load_dataset(filename):\n",
    "    # load the dataset\n",
    "    data = read_csv(filename, header=0)\n",
    "    # retrive array\n",
    "    dataset = data.values\n",
    "    # split into input and output varriables\n",
    "    X = dataset[:, :-1]\n",
    "    y = dataset[:, -1]\n",
    "    # format all fields as string\n",
    "    X = X.astype(str)\n",
    "    return X, y"
   ]
  },
  {
   "cell_type": "code",
   "execution_count": 3,
   "id": "876bc816-179f-4df6-a735-e7b3c50c38bd",
   "metadata": {},
   "outputs": [],
   "source": [
    "# prepare inpute data\n",
    "def prepare_inputs(X_train, X_test):\n",
    "    oe = OrdinalEncoder()\n",
    "    oe.fit(X_train)\n",
    "    X_train_enc = oe.transform(X_train)\n",
    "    X_test_enc = oe.transform(X_test)\n",
    "    return X_train_enc, X_test_enc"
   ]
  },
  {
   "cell_type": "code",
   "execution_count": 4,
   "id": "5f261e33-0255-406d-b163-da12ba9d60af",
   "metadata": {},
   "outputs": [],
   "source": [
    "# prepare target\n",
    "def prepare_targets(y_train, y_test):\n",
    "    le = LabelEncoder()\n",
    "    le.fit(y_train)\n",
    "    y_train_enc = le.transform(y_train)\n",
    "    y_test_enc = le.transform(y_test)\n",
    "    return y_train_enc, y_test_enc"
   ]
  },
  {
   "cell_type": "code",
   "execution_count": 5,
   "id": "f4ae4192-d8c8-4299-b96a-f260af01a6a8",
   "metadata": {},
   "outputs": [],
   "source": [
    "# load the dataset\n",
    "X, y = load_dataset('breast-cancer.csv')"
   ]
  },
  {
   "cell_type": "code",
   "execution_count": 6,
   "id": "5d150cc4-6ba6-4843-95a6-41d776595e32",
   "metadata": {},
   "outputs": [],
   "source": [
    "# split into train and test sets\n",
    "X_train, X_test, y_train, y_test = train_test_split(X, y, test_size=0.33, random_state=1)"
   ]
  },
  {
   "cell_type": "code",
   "execution_count": 7,
   "id": "b827d9da-3f07-4b42-b3d1-4015934e6d44",
   "metadata": {},
   "outputs": [],
   "source": [
    "# prepare input data\n",
    "X_train_enc, X_test_enc = prepare_inputs(X_train, X_test)"
   ]
  },
  {
   "cell_type": "code",
   "execution_count": 8,
   "id": "753101fe-311a-452b-9dcc-741ff6cb6223",
   "metadata": {},
   "outputs": [],
   "source": [
    "# prepare output data\n",
    "y_train_enc, y_test_enc = prepare_targets(y_train, y_test)"
   ]
  },
  {
   "cell_type": "code",
   "execution_count": 9,
   "id": "d583f2d3-7721-4109-bb61-5f1692539e1c",
   "metadata": {},
   "outputs": [
    {
     "name": "stdout",
     "output_type": "stream",
     "text": [
      "TRAIN (182, 9) (182,)\n",
      "TEST (90, 9) (90,)\n"
     ]
    }
   ],
   "source": [
    "# summarize\n",
    "print('TRAIN', X_train_enc.shape, y_train_enc.shape)\n",
    "print('TEST', X_test_enc.shape, y_test_enc.shape)"
   ]
  },
  {
   "cell_type": "code",
   "execution_count": null,
   "id": "fe3392a2-da7f-4897-9005-0957eb9b3e31",
   "metadata": {},
   "outputs": [],
   "source": []
  }
 ],
 "metadata": {
  "kernelspec": {
   "display_name": "Python 3 (ipykernel)",
   "language": "python",
   "name": "python3"
  },
  "language_info": {
   "codemirror_mode": {
    "name": "ipython",
    "version": 3
   },
   "file_extension": ".py",
   "mimetype": "text/x-python",
   "name": "python",
   "nbconvert_exporter": "python",
   "pygments_lexer": "ipython3",
   "version": "3.10.12"
  }
 },
 "nbformat": 4,
 "nbformat_minor": 5
}
